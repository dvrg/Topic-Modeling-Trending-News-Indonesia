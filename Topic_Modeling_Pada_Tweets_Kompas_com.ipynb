{
  "nbformat": 4,
  "nbformat_minor": 0,
  "metadata": {
    "colab": {
      "name": "Topic Modeling Pada Tweets Kompas.com.ipynb",
      "provenance": [],
      "toc_visible": true,
      "include_colab_link": true
    },
    "kernelspec": {
      "display_name": "Python 3",
      "language": "python",
      "name": "python3"
    }
  },
  "cells": [
    {
      "cell_type": "markdown",
      "metadata": {
        "id": "view-in-github",
        "colab_type": "text"
      },
      "source": [
        "<a href=\"https://colab.research.google.com/github/dvrg/Topic-Modeling-Trending-News-Indonesia/blob/master/Topic_Modeling_Pada_Tweets_Kompas_com.ipynb\" target=\"_parent\"><img src=\"https://colab.research.google.com/assets/colab-badge.svg\" alt=\"Open In Colab\"/></a>"
      ]
    },
    {
      "cell_type": "markdown",
      "metadata": {
        "id": "1yxP8bsAFOmF"
      },
      "source": [
        "Author : David Rigan\n",
        "\n",
        "Publish : Mei 2019"
      ]
    },
    {
      "cell_type": "markdown",
      "metadata": {
        "id": "0LoD4uO3rTqW"
      },
      "source": [
        "Pertama-tama, kita perlu import tersebut dahulu beberapa library yang akan berguna pada pekerjaan kita kali ini. **matplotlib** digunakan untuk visualisasi seperti gambar di atas. Adapun tools untuk implementasi LDA yang akan kita gunakan adalah gensim. Menurut pengalaman saya pribadi, gensim memberikan fungsionalitas yang baik dalam hal API dan efisiensi komputasi. Selain itu, **nltk** digunakan untuk preprocessing seperti proses stopword removal, tokenization, dan stemming; kemudian, **scikit-learn** digunakan untuk proses clustering dokumen tweet, serta reduksi dimensi dari vektor tweet agar bisa di-plot ke bidang 2-dimensi. "
      ]
    },
    {
      "cell_type": "code",
      "metadata": {
        "id": "2YA4SK6MiWzo",
        "colab": {
          "base_uri": "https://localhost:8080/",
          "height": 224
        },
        "outputId": "8697e0f4-1124-4c8c-c389-aeed054137bf"
      },
      "source": [
        "!pip install Sastrawi\n",
        "!pip install tweepy"
      ],
      "execution_count": null,
      "outputs": [
        {
          "output_type": "stream",
          "text": [
            "Requirement already satisfied: Sastrawi in /usr/local/lib/python3.6/dist-packages (1.0.1)\n",
            "Requirement already satisfied: tweepy in /usr/local/lib/python3.6/dist-packages (3.6.0)\n",
            "Requirement already satisfied: PySocks>=1.5.7 in /usr/local/lib/python3.6/dist-packages (from tweepy) (1.6.8)\n",
            "Requirement already satisfied: requests-oauthlib>=0.7.0 in /usr/local/lib/python3.6/dist-packages (from tweepy) (1.2.0)\n",
            "Requirement already satisfied: six>=1.10.0 in /usr/local/lib/python3.6/dist-packages (from tweepy) (1.11.0)\n",
            "Requirement already satisfied: requests>=2.11.1 in /usr/local/lib/python3.6/dist-packages (from tweepy) (2.18.4)\n",
            "Requirement already satisfied: oauthlib>=3.0.0 in /usr/local/lib/python3.6/dist-packages (from requests-oauthlib>=0.7.0->tweepy) (3.0.1)\n",
            "Requirement already satisfied: idna<2.7,>=2.5 in /usr/local/lib/python3.6/dist-packages (from requests>=2.11.1->tweepy) (2.6)\n",
            "Requirement already satisfied: chardet<3.1.0,>=3.0.2 in /usr/local/lib/python3.6/dist-packages (from requests>=2.11.1->tweepy) (3.0.4)\n",
            "Requirement already satisfied: certifi>=2017.4.17 in /usr/local/lib/python3.6/dist-packages (from requests>=2.11.1->tweepy) (2018.11.29)\n",
            "Requirement already satisfied: urllib3<1.23,>=1.21.1 in /usr/local/lib/python3.6/dist-packages (from requests>=2.11.1->tweepy) (1.22)\n"
          ],
          "name": "stdout"
        }
      ]
    },
    {
      "cell_type": "code",
      "metadata": {
        "id": "HlJazmlRrTqX"
      },
      "source": [
        "import warnings\n",
        "warnings.filterwarnings('ignore')\n",
        "\n",
        "import matplotlib.pyplot as plt\n",
        "import re\n",
        "import numpy as np\n",
        "import pandas as pd\n",
        "import gensim\n",
        "import nltk\n",
        "\n",
        "from nltk.stem.snowball import SnowballStemmer\n",
        "from Sastrawi.Stemmer.StemmerFactory import StemmerFactory\n",
        "from Sastrawi.StopWordRemover.StopWordRemoverFactory import StopWordRemoverFactory\n",
        "\n",
        "from gensim.corpora import Dictionary, MmCorpus\n",
        "from gensim.models import ldamodel\n",
        "\n",
        "from sklearn.cluster import KMeans\n",
        "from sklearn.manifold import MDS\n",
        "from sklearn.decomposition import PCA"
      ],
      "execution_count": null,
      "outputs": []
    },
    {
      "cell_type": "markdown",
      "metadata": {
        "id": "yPoLEXWLrTqb"
      },
      "source": [
        "Kemudian, kita akan membuat terlebih dahulu fungsi untuk memuat/load dataset kita yang berupa kumpulan twitter account name beserta tweet yang di-post."
      ]
    },
    {
      "cell_type": "code",
      "metadata": {
        "id": "tFLQ1FyyrTqc"
      },
      "source": [
        "def load_dataset(filename):\n",
        "    file = open(filename, 'r')\n",
        "    \n",
        "    acc_names = []\n",
        "    tweets = []\n",
        "    \n",
        "    for line in file:\n",
        "        line = line.strip()\n",
        "        parts = line.split('###')\n",
        "        acc_names.append(parts[0])\n",
        "        tweets.append(parts[1])\n",
        "        \n",
        "    return acc_names, tweets"
      ],
      "execution_count": null,
      "outputs": []
    },
    {
      "cell_type": "markdown",
      "metadata": {
        "id": "lCbndXtZrTqf"
      },
      "source": [
        "Hyper-parameter yang perlu kita tentukan pertama kali adalah \"banyaknya topik\" yang akan ditemukan oleh LDA. Di satu sisi, ini sepertinya adalah kelemahan vanilla LDA karena tidak bisa menentukan banyaknya topik secara otomatis. Namun, saat ini, sudah ada banyak varian dari LDA yang mampu menentukan topik secara otomatis, termasuk salah satunya adalah Hierachical Dirichlet Process (HDP) [1], dan gensim juga punya implementasi dari HDP ! "
      ]
    },
    {
      "cell_type": "code",
      "metadata": {
        "id": "rhNM2ou1rTqg"
      },
      "source": [
        "# config_var\n",
        "num_topics=4"
      ],
      "execution_count": null,
      "outputs": []
    },
    {
      "cell_type": "markdown",
      "metadata": {
        "id": "NFlvQ2QurTqj"
      },
      "source": [
        "Berikutnya adalah kita perlu hidupkan beberapa objek untuk pra-pemrosesan seperti lowercasing, stopword removal, dan stemming. Kita perlu melakukan stopword removal karena kita tentunya tidak ingin jenis kata tersebut menjadi wakil dari salah satu topik yang diakibatkan tingginya frekuensi dari stopword. Kata-kata topik biasanya adalah content word yang mayoritas merupakan kata benda dan kata kerja. "
      ]
    },
    {
      "cell_type": "code",
      "metadata": {
        "id": "mVRaiznGrTql"
      },
      "source": [
        "# definisikan beberapa fungsi untuk kebutuhkan pre-processing, pre-processing yang dilakukan adalah\n",
        "# 1. lowercasing\n",
        "# 2. stopword removal\n",
        "# 3. stemming\n",
        "\n",
        "#stemmer = SnowballStemmer(\"english\") # indonesia\n",
        "\n",
        "# create stemmer\n",
        "factory = StemmerFactory()\n",
        "stemmer = factory.create_stemmer()\n",
        "\n",
        "#stopwords = nltk.corpus.stopwords.words('english')\n",
        "factory = StopWordRemoverFactory()\n",
        "stopwords = factory.get_stop_words()\n",
        "\n",
        "def preprocess(text):\n",
        "    # tokenize and lowercasing\n",
        "    tokens = [word.lower() for word in text.split()]\n",
        "    filtered_tokens = []\n",
        "    \n",
        "    #buat yang bukan terdiri dari alfabet, dan merupakan stopword\n",
        "    for token in tokens:\n",
        "        if re.search('[a-zA-Z]', token) and (token not in stopwords):\n",
        "            filtered_tokens.append(token)\n",
        "            \n",
        "    # lakukan steming dengan snowball stemmer\n",
        "    stems = [stemmer.stem(t) for t in filtered_tokens]\n",
        "    return stems"
      ],
      "execution_count": null,
      "outputs": []
    },
    {
      "cell_type": "markdown",
      "metadata": {
        "id": "cDvdZZHurTqn"
      },
      "source": [
        "Lalu, kita muat/load dataset kita dengan fungsi yang sudah kita bangun sebelumnya, dan kenakan pre-processing terhadap dataset kita yang sudah dimuat tersebut. "
      ]
    },
    {
      "cell_type": "code",
      "metadata": {
        "id": "jf9oI5pprTqo"
      },
      "source": [
        "\n",
        "\n",
        "# kita load dokumen twitter dan lakukan preprocessing terhadap tweet yang sudah di load\n",
        "acc_names, tweets = load_dataset(\"tweet-kompas.txt\")\n",
        "\n",
        "# lakukan preprocessing untuk setiap tweet pada koleksi \"tweets\" kita\n",
        "# Gunakan List Comprehension untuk mempermudah hidup kita\n",
        "tweets = [preprocess(tweet) for tweet in tweets]"
      ],
      "execution_count": null,
      "outputs": []
    },
    {
      "cell_type": "markdown",
      "metadata": {
        "id": "9vAJ0HpmrTqt"
      },
      "source": [
        "Setelah itu, kita buat dictionary dari semua kata-kata dalam koleksi dokumen kita. Intinya adalah kita lakukan indexing untuk semua kata-kata yang ada pada koleksi dokumen kita (yang ingin dicari distribusi topik-nya). Perlu diingat bahwa LDA menganggap sebuah dokumen sebagai bag-of-words (BoW) karena informasi urutan antar kata dalam dokumen tidak diperlukan. "
      ]
    },
    {
      "cell_type": "code",
      "metadata": {
        "id": "EG3cQDxTrTqu"
      },
      "source": [
        "\n",
        "\n",
        "# membuat term dictionary dari korpus kita, dimana setiap kata unik akan diberikan sebuah index\n",
        "dictionary = Dictionary(tweets)\n",
        "\n",
        "# hapus term yang:\n",
        "# 1. muncul di kurang dari 2 dokumen\n",
        "# 2. muncul di lebih dari 0.9*(total_dok) dokumen\n",
        "dictionary.filter_extremes(no_below=2, no_above=0.9)\n",
        "\n",
        "# ubah dictionary menjadi object bag-of-words references\n",
        "# ingat bahwa LDA, dokumen dasumsikan dengan bag-of-words model\n",
        "corpus = [dictionary.doc2bow(tweet) for tweet in tweets]"
      ],
      "execution_count": null,
      "outputs": []
    },
    {
      "cell_type": "markdown",
      "metadata": {
        "id": "hYjbjmXKrTqy"
      },
      "source": [
        "Sekarang, saatnya kita jalankan LDA untuk infer distribusi topik secara otomatis! Untuk melakukan estimasi, gesim LDA menggunakan metode Variational Bayes (bukan dengan Gibbs Sampling). Proses yang dijalankan mendukung online learning berdasarkan algoritma oleh M. Hoffman [2], dimana kita bisa update parameter secara langsung ketika ada dokumen baru. Perhatikan bahwa bagian ini dapat memakan waktu lama tergantung iterasi yang di-set. "
      ]
    },
    {
      "cell_type": "code",
      "metadata": {
        "id": "6pFOzaMKrTqz"
      },
      "source": [
        "# Jalankan LDA\n",
        "lda = ldamodel.LdaModel(corpus, num_topics=num_topics, id2word=dictionary, random_state=1, iterations=5000)"
      ],
      "execution_count": null,
      "outputs": []
    },
    {
      "cell_type": "markdown",
      "metadata": {
        "id": "df5LBjZ1rTq1"
      },
      "source": [
        "Setelah itu, kita bisa coba lihat-lihat topik-topik yang berhasil di-infer oleh LDA beserta kata-kata wakil dan distribusinya. "
      ]
    },
    {
      "cell_type": "code",
      "metadata": {
        "id": "ksh7k68YrTq2",
        "colab": {
          "base_uri": "https://localhost:8080/",
          "height": 425
        },
        "outputId": "762037b4-e64f-4467-8367-9a78e96df083"
      },
      "source": [
        "# tampilkan topic matrix\n",
        "topics_matrix = lda.show_topics(formatted=False)\n",
        "\n",
        "for topic_no, topic_words in topics_matrix:\n",
        "    print('topic number: {}'.format(topic_no))\n",
        "    \n",
        "    # default: top 1- kata yang paling tinggi probabilitasnya\n",
        "    for word, prob in topic_words:\n",
        "        print(word, prob)"
      ],
      "execution_count": null,
      "outputs": [
        {
          "output_type": "stream",
          "text": [
            "topic number: 0\n",
            "tahun 0.6684913\n",
            "timur 0.08402026\n",
            "empat 0.08321981\n",
            "tulungagung 0.0827454\n",
            "jawa 0.08152317\n",
            "topic number: 1\n",
            "tahun 0.3793761\n",
            "empat 0.37798214\n",
            "jawa 0.08198442\n",
            "timur 0.080346346\n",
            "tulungagung 0.08031098\n",
            "topic number: 2\n",
            "jawa 0.35503247\n",
            "timur 0.35458353\n",
            "tulungagung 0.19872493\n",
            "tahun 0.048645362\n",
            "empat 0.04301371\n",
            "topic number: 3\n",
            "tulungagung 0.3758775\n",
            "empat 0.37241104\n",
            "tahun 0.090969115\n",
            "timur 0.0803885\n",
            "jawa 0.08035383\n"
          ],
          "name": "stdout"
        }
      ]
    },
    {
      "cell_type": "markdown",
      "metadata": {
        "id": "dp9OsK5srTq5"
      },
      "source": [
        "## Pengelompokan Dokumen (clustering)"
      ]
    },
    {
      "cell_type": "markdown",
      "metadata": {
        "id": "9fOsPs9WrTq6"
      },
      "source": [
        "Setelah kita berhasil infer distribusi topik untuk koleksi dan juga masing-masing dokumen tweet, sekarang kita coba cluster tweet berdasarkan kedekatan topik. Sebuah dokumen/tweet direpresentasikan sebagai vektor yang setiap cell-nya merupakan probabilitas topik tertentu terkait dokumen tersebut."
      ]
    },
    {
      "cell_type": "code",
      "metadata": {
        "id": "G8dn4R4KrTq7",
        "colab": {
          "base_uri": "https://localhost:8080/",
          "height": 34
        },
        "outputId": "8924dfd2-3c59-45b0-bdde-595af4ddfa44"
      },
      "source": [
        "# bentuk terlebih dahulu vektor dokumen/tweets\n",
        "# vektor tweet/dokumen = vektor probabilitas terhadap masing-masing topik\n",
        "\n",
        "tweet_vectors = []\n",
        "for tweet in tweets:\n",
        "    probs = [prob for (_,prob) in lda.get_document_topics(dictionary.doc2bow(tweet))]\n",
        "    tweet_vectors.append(probs)\n",
        "tweet_vectors = np.array(tweet_vectors)\n",
        "\n",
        "# set banyaknya cluster = banyaknya topik\n",
        "num_clusters = num_topics\n",
        "\n",
        "# gunakan algoritma K-Means, dan lakukan clustering\n",
        "km = KMeans(n_clusters=num_clusters)\n",
        "km.fit(tweet_vectors)\n",
        "\n",
        "# jka kita ingin melihat indeks cluster untuk setiap tweet/dokumen\n",
        "clusters =km.labels_.tolist()\n",
        "\n",
        "print(clusters)"
      ],
      "execution_count": null,
      "outputs": [
        {
          "output_type": "stream",
          "text": [
            "[0, 0, 2, 0, 0, 2, 3, 1, 1]\n"
          ],
          "name": "stdout"
        }
      ]
    },
    {
      "cell_type": "markdown",
      "metadata": {
        "id": "qqpjYSV_rTq-"
      },
      "source": [
        "### Penentuan Wakil Kata untuk Topik Utama di Setiap Cluster\n",
        "\n",
        "Sebelumnya, kita mengasumsikan bahwa dokumen-dokumen atau kumpulan tweet yang berada dalam satu cluster adalah yang kira-kira membicarakan topik-topik yang sama karena distribusi topik-nya dekat. Sekarang, kita ingin memberi label untuk setiap cluster agar kira-kira topik-topik utama apa yang dibicarakan di setiap cluster. Cara yang paling mudah untuk memberi nama topik yang major adalah dengan melihat vektor centroid dari masing-masing cluster. Lalu, untuk setiap centroid, kita lihat siapa topik yang probabilitas-nya atau proporsi-nya paling tinggi. Nah, kira-kira kata-kata dari topik yang probabilitas paling tinggi itulah yang menjadi wakil dari cluster yang bersesuaian. "
      ]
    },
    {
      "cell_type": "code",
      "metadata": {
        "id": "CyVGMfbBrTq-",
        "colab": {
          "base_uri": "https://localhost:8080/",
          "height": 153
        },
        "outputId": "bd0598c4-30d2-4d56-a1d5-578223986ea8"
      },
      "source": [
        "# untuk setiap cluster center, kita sort argumen/index berdasarkan nilai probabilitasnya\n",
        "# karena index/argumen adalah id topik.\n",
        "#\n",
        "# jadi, secara intuisi, ini adalah cara untuk mencari topik major yang dibicarakan di sebuah cluster\n",
        "# nantinya, wakil kata cluster akan diambil dari 2 topik major di setiap cluster\n",
        "#\n",
        "# ::-1 artinya reverse list\n",
        "\n",
        "order_centroids = km.cluster_centers_.argsort()[:, ::-1]\n",
        "\n",
        "cluster_names = {}\n",
        "for i in range(num_clusters):\n",
        "    print(\"cluster %d words:\" % i)\n",
        "    \n",
        "    # ambil 2 topik major untuk setiap cluster\n",
        "    topic_words = []\n",
        "    for ind in order_centroids[i, :1]:\n",
        "        topic_words += [dictionary.get(word_id) for (word_id, prob) in lda.get_topic_terms(ind, topn=2)]\n",
        "        \n",
        "    cluster_names[i] = ','.join(topic_words)\n",
        "    \n",
        "    print(cluster_names[i])"
      ],
      "execution_count": null,
      "outputs": [
        {
          "output_type": "stream",
          "text": [
            "cluster 0 words:\n",
            "tahun,empat\n",
            "cluster 1 words:\n",
            "jawa,timur\n",
            "cluster 2 words:\n",
            "tahun,timur\n",
            "cluster 3 words:\n",
            "tulungagung,empat\n"
          ],
          "name": "stdout"
        }
      ]
    },
    {
      "cell_type": "markdown",
      "metadata": {
        "id": "4LBKGhX6rTrB"
      },
      "source": [
        "### Visualisasi Cluster dengan Matplotlib\n",
        "\n",
        "Agar bisa di-plot ke bidang 2-dimensi, kita perlu reduksi dimensi vektor dokumen yang awalnya sebanyak #topik menjadi 2-dimensi. Kita dapat menggunakan berbagai macam teknik seperti Multidimensional Scaling (MDS) atau Princiap Component Analysis (PCA) (pilih salah satu). "
      ]
    },
    {
      "cell_type": "code",
      "metadata": {
        "id": "rt8qFXAErTrB"
      },
      "source": [
        "### plot ke 2D ###\n",
        "\n",
        "# reduksi dimensi dengan multidimensional scaling\n",
        "mds = MDS(n_components=2)\n",
        "pos = mds.fit_transform(tweet_vectors) # shape (n_components, n_samples)\n",
        "\n",
        "#pca = PCA(n_components=2)\n",
        "#pos = pca.fit_transform(tweet_vectors) # shape (n_components, n_samples)\n",
        "\n",
        "# ambil hasil reduksi ke 2D untuk posisi x dan y --> agar bis di plot ke bidang kartesisus\n",
        "xs, ys  = pos[:, 0], pos[:, 1]"
      ],
      "execution_count": null,
      "outputs": []
    },
    {
      "cell_type": "markdown",
      "metadata": {
        "id": "FkGbkmzNrTrE"
      },
      "source": [
        "Setelah itu, kita buat beberapa fungsi untuk plotting beberapa informasi yang kita butuhkan ke bidang kartesius. "
      ]
    },
    {
      "cell_type": "code",
      "metadata": {
        "id": "Kn-xeYgHrTrG"
      },
      "source": [
        "# fungsi yang digunakan untuk plot cluster dokumen berdsarkan distribusi topik yang dimilikinya\n",
        "# xs adalah posisi axis dari semua dokumen (numpy list of real number)\n",
        "# ys adalah posisi ordinat dari semua dokumen (numpy list of real number)\n",
        "# clusters adalah list dari cluster index untuk masing-masing dokumen\n",
        "# acc_names adalah list dari nama-nama dokumen (dalam hal ini, nama-nama akun tweet)\n",
        "def plot_doc_cluster(xs, ys, clusters, acc_names):\n",
        "    # warna cluster - maksimal 5 cluster\n",
        "    cluster_colors = {0: '#1b9e77', 1: '#d95f02', 2: '#7570b3', 3: '#e7298a', 4: '#66a61e'}\n",
        "\n",
        "    # gunakan Pandas untuk kemudahan proses data, terutama untuk grouping\n",
        "    df = pd.DataFrame(dict(x=xs, y=ys, label=clusters, acc_names=acc_names))\n",
        "    groups = df.groupby('label') #group by cluster!!!\n",
        "\n",
        "    fig, ax = plt.subplots(figsize=(17, 9)) # set size\n",
        "    ax.margins(0.05)\n",
        "\n",
        "    for name, group in groups:\n",
        "        ax.plot(group.x, group.y, marker='o', linestyle='', ms=12, label=cluster_names[name], color=cluster_colors[name], mec='none')\n",
        "        ax.set_aspect('auto')\n",
        "        ax.tick_params(axis= 'x', which='both', bottom='off', top='off', labelbottom='off')\n",
        "        ax.tick_params(axis= 'y', which='both', left='off', top='off', labelleft='off')\n",
        "\n",
        "    ax.legend(numpoints=1)  #show legend with only 1 point\n",
        "\n",
        "    for i in range(len(df)):\n",
        "        ax.text(df.ix[i]['x'], df.ix[i]['y'], df.ix[i]['acc_names'], size=8)\n",
        "\n",
        "    plt.show()\n",
        "\n",
        "# fungsi yang digunakan untuk plot distribusi kata per-topik yang ditemukan\n",
        "def plot_word_dist_per_topic(topic_no, topics_matrix, width=0.5):\n",
        "    _, topic_words = topics_matrix[topic_no]\n",
        "\n",
        "    # hanya top-10 yang paling tinggi probabilitasnya\n",
        "    words = []\n",
        "    probs = []\n",
        "    for word, prob in topic_words:\n",
        "        words.append(word)\n",
        "        probs.append(prob)\n",
        "\n",
        "    ind = np.arange(len(words))\n",
        "\n",
        "    plt.bar(ind, probs, width=width)\n",
        "    plt.xticks(ind + width/2, words, rotation='vertical')\n",
        "    plt.title('Word Distribution of Topic {}'.format(topic_no))\n",
        "    plt.show()"
      ],
      "execution_count": null,
      "outputs": []
    },
    {
      "cell_type": "markdown",
      "metadata": {
        "id": "MjkYwhYfrTrK"
      },
      "source": [
        "Sekarang, kita coba plot dengan fungsi yang pertama untuk menghasilkan gambar seperti yang di atas. "
      ]
    },
    {
      "cell_type": "code",
      "metadata": {
        "id": "cO0dDVbCrTrL",
        "colab": {
          "base_uri": "https://localhost:8080/",
          "height": 540
        },
        "outputId": "18552901-29c1-4c58-e879-3e0c40532581"
      },
      "source": [
        "# plot cluster dokumen/tweet\n",
        "plot_doc_cluster(xs, ys, clusters, acc_names)"
      ],
      "execution_count": null,
      "outputs": [
        {
          "output_type": "display_data",
          "data": {
            "image/png": "[encoded data removed]",
            "text/plain": [
              "<Figure size 1224x648 with 1 Axes>"
            ]
          },
          "metadata": {
            "tags": []
          }
        }
      ]
    },
    {
      "cell_type": "markdown",
      "metadata": {
        "id": "WUBviH2erTrR"
      },
      "source": [
        "Kemudian, fungsi plotting yang kedua digunakan untuk melihat Top-10 Kata paling probable atau yang paling besar proporsinya untuk topik tertentu. "
      ]
    },
    {
      "cell_type": "code",
      "metadata": {
        "id": "ADGGw3F0rTrT",
        "colab": {
          "base_uri": "https://localhost:8080/",
          "height": 407
        },
        "outputId": "0831bfdd-1c6a-40a9-8d8b-9df59691c19b"
      },
      "source": [
        "# plot word distribution untuk topic 0\n",
        "plot_word_dist_per_topic(0, topics_matrix)"
      ],
      "execution_count": null,
      "outputs": [
        {
          "output_type": "display_data",
          "data": {
            "image/png": "[encoded data removed]",
            "text/plain": [
              "<Figure size 576x396 with 1 Axes>"
            ]
          },
          "metadata": {
            "tags": []
          }
        }
      ]
    },
    {
      "cell_type": "code",
      "metadata": {
        "id": "3G375S5YrTrW",
        "colab": {
          "base_uri": "https://localhost:8080/",
          "height": 407
        },
        "outputId": "e6892e2e-2c24-4d91-a54a-ec67a664279d"
      },
      "source": [
        "# plot word distribution untuk topic 1\n",
        "plot_word_dist_per_topic(1, topics_matrix)"
      ],
      "execution_count": null,
      "outputs": [
        {
          "output_type": "display_data",
          "data": {
            "image/png": "[encoded data removed]",
            "text/plain": [
              "<Figure size 576x396 with 1 Axes>"
            ]
          },
          "metadata": {
            "tags": []
          }
        }
      ]
    },
    {
      "cell_type": "code",
      "metadata": {
        "id": "xyD3mKowrTra",
        "colab": {
          "base_uri": "https://localhost:8080/",
          "height": 407
        },
        "outputId": "94d74f28-c89c-4d7f-e081-561a88722ef5"
      },
      "source": [
        "# plot word distribution untuk topic 2\n",
        "plot_word_dist_per_topic(2, topics_matrix)"
      ],
      "execution_count": null,
      "outputs": [
        {
          "output_type": "display_data",
          "data": {
            "image/png": "[encoded data removed]",
            "text/plain": [
              "<Figure size 576x396 with 1 Axes>"
            ]
          },
          "metadata": {
            "tags": []
          }
        }
      ]
    },
    {
      "cell_type": "code",
      "metadata": {
        "id": "cdKFOaUh7lTd",
        "colab": {
          "base_uri": "https://localhost:8080/",
          "height": 407
        },
        "outputId": "8c89e8d9-4c27-4530-8924-f5f06aadbc83"
      },
      "source": [
        "# plot word distribution untuk topic 3\n",
        "plot_word_dist_per_topic(3, topics_matrix)"
      ],
      "execution_count": null,
      "outputs": [
        {
          "output_type": "display_data",
          "data": {
            "image/png": "[encoded data removed]",
            "text/plain": [
              "<Figure size 576x396 with 1 Axes>"
            ]
          },
          "metadata": {
            "tags": []
          }
        }
      ]
    }
  ]
}